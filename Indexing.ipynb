{
  "nbformat": 4,
  "nbformat_minor": 0,
  "metadata": {
    "colab": {
      "name": "Indexing.ipynb",
      "provenance": [],
      "collapsed_sections": []
    },
    "kernelspec": {
      "name": "python3",
      "display_name": "Python 3"
    }
  },
  "cells": [
    {
      "cell_type": "code",
      "metadata": {
        "id": "TB90CpIlYd-3",
        "colab": {
          "base_uri": "https://localhost:8080/"
        },
        "outputId": "e86fffb9-838f-4181-d574-cf7dd4a10a75"
      },
      "source": [
        "from google.colab import drive\n",
        "drive.mount('/content/drive/')"
      ],
      "execution_count": null,
      "outputs": [
        {
          "output_type": "stream",
          "text": [
            "Mounted at /content/drive/\n",
            "Drive already mounted at /content/drive/; to attempt to forcibly remount, call drive.mount(\"/content/drive/\", force_remount=True).\n"
          ],
          "name": "stdout"
        }
      ]
    },
    {
      "cell_type": "markdown",
      "metadata": {
        "id": "CrCP8aaadJq9"
      },
      "source": [
        "##Indexing\n",
        "note: paste the path of template.html file when asked."
      ]
    },
    {
      "cell_type": "code",
      "metadata": {
        "id": "dv6VGPuaN5I5",
        "colab": {
          "base_uri": "https://localhost:8080/"
        },
        "outputId": "d842b55e-3ec3-4d90-8ded-51f6990deb56",
        "cellView": "form"
      },
      "source": [
        "import time, urllib, os\n",
        "os.makedirs('tools/gdrive-index-html', exist_ok=True)\n",
        "reqFileUrl = 'https://raw.githubusercontent.com/biplobsd/gdrive-index-html/main/'\n",
        "toolDir = 'tools/gdrive-index-html/'\n",
        "mainScript = toolDir+'gdriveIndexing.py'\n",
        "template = toolDir+'template.html'\n",
        "urllib.request.urlretrieve(\n",
        "    f\"{reqFileUrl}gdriveIndexing.py\",\n",
        "     mainScript\n",
        ")\n",
        "urllib.request.urlretrieve(\n",
        "    f\"{reqFileUrl}template.html\",\n",
        "     template\n",
        ")\n",
        "\n",
        "\n",
        "time.sleep(1)\n",
        "sourcePath = \"/content/drive/MyDrive\" #@param {type:'string'}\n",
        "outputfileName = \"Driveindex\" #@param {type:'string'}\n",
        "templatePath = 'tools/gdrive-index-html/template.html'\n",
        "# outputfileName = \"/content/drive/Shared drives/TaiwanNCCU TD/gIndex/\" + outputfileName\n",
        "!python2 $mainScript $sourcePath $outputfileName $templatePath\n"
      ],
      "execution_count": 38,
      "outputs": [
        {
          "output_type": "stream",
          "name": "stdout",
          "text": [
            "Processing....\n",
            "done!\n"
          ]
        }
      ]
    }
  ]
}